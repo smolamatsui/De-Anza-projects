{
 "cells": [
  {
   "cell_type": "code",
   "execution_count": 69,
   "metadata": {},
   "outputs": [],
   "source": [
    "class BitShiftEncryptor:\n",
    "    def __init__(self, filename):\n",
    "        self.filename = filename\n",
    "        self.original_text = self._read_file()\n",
    "        self.encrypted_text = \"\"\n",
    "        self.decrypted_text = \"\"\n",
    "    \n",
    "    def _read_file(self):\n",
    "        with open(self.filename, 'rb') as file: \n",
    "            return file.read()\n",
    "    \n",
    "    def _write_file(self, content, filename):\n",
    "        with open(filename, 'wb') as file: \n",
    "            file.write(content)\n",
    "    \n",
    "    def _swap_bits(self, byte):\n",
    "        swapped = ((byte & 0xF0) >> 4) | ((byte & 0x0F) << 4)\n",
    "        return swapped\n",
    "    \n",
    "    def encrypt(self):\n",
    "        self.encrypted_text = bytes(self._swap_bits(byte) for byte in self.original_text)\n",
    "        return self.encrypted_text\n",
    "    \n",
    "    def decrypt(self, encrypted_filename):\n",
    "        encrypted_content = self._read_file_from_filename(encrypted_filename)\n",
    "        self.decrypted_text = bytes(self._swap_bits(byte) for byte in encrypted_content)\n",
    "        return self.decrypted_text\n",
    "    \n",
    "    def _read_file_from_filename(self, filename):\n",
    "        with open(filename, 'rb') as file:  \n",
    "            return file.read()\n",
    "    \n",
    "    def save_encrypted(self, filename):\n",
    "        self._write_file(self.encrypted_text, filename)\n",
    "    \n",
    "    def save_decrypted(self, filename):\n",
    "        self._write_file(self.decrypted_text, filename)\n",
    "    \n",
    "    def __str__(self):\n",
    "        try:\n",
    "            original_str = self.original_text.decode('utf-8', errors='replace')\n",
    "            encrypted_str = self.encrypted_text.decode('utf-8', errors='replace')\n",
    "            decrypted_str = self.decrypted_text.decode('utf-8', errors='replace')\n",
    "        except Exception as e:\n",
    "            return str(e)\n",
    "\n",
    "        return (f\"Original text:\\n{original_str}\\n\\n\"\n",
    "                f\"Encrypted text:\\n{encrypted_str}\\n\\n\"\n",
    "                f\"Decrypted text:\\n{decrypted_str}\")\n",
    "    \n",
    "    def __repr__(self):\n",
    "        return f\"BitShiftEncryptor(filename='{self.filename}')\""
   ]
  },
  {
   "cell_type": "code",
   "execution_count": 72,
   "metadata": {},
   "outputs": [
    {
     "name": "stdout",
     "output_type": "stream",
     "text": [
      "Original text:\n",
      "This is a very secret message\n",
      "`1234567890-=qwertyuiop[]\\asdfghjkl;'zxcvbnm,./\n",
      "\n",
      "Encrypted text:\n",
      "E��7\u0002�7\u0002\u0016\u0002gV'�\u00027V6'VG\u0002�V77\u0016vV�\u0006\u0013#3CScs��\u0003��\u0017wV'G�W��\u0007���\u00167Ffv���Ƴr��6g&�����\n",
      "\n",
      "Decrypted text:\n",
      "This is a very secret message\n",
      "`1234567890-=qwertyuiop[]\\asdfghjkl;'zxcvbnm,./\n"
     ]
    }
   ],
   "source": [
    "encryptor = BitShiftEncryptor('examplemessage.txt')\n",
    "#change the file name to the file you want to encrypt\n",
    "\n",
    "encryptor.encrypt()\n",
    "encryptor.save_encrypted('encrypted_message.txt')\n",
    "encryptor.decrypt('encrypted_message.txt')\n",
    "encryptor.save_decrypted('decrypted_message.txt')\n",
    "print(encryptor)"
   ]
  },
  {
   "cell_type": "code",
   "execution_count": null,
   "metadata": {},
   "outputs": [],
   "source": []
  }
 ],
 "metadata": {
  "kernelspec": {
   "display_name": "Python 3",
   "language": "python",
   "name": "python3"
  },
  "language_info": {
   "codemirror_mode": {
    "name": "ipython",
    "version": 3
   },
   "file_extension": ".py",
   "mimetype": "text/x-python",
   "name": "python",
   "nbconvert_exporter": "python",
   "pygments_lexer": "ipython3",
   "version": "3.9.4"
  }
 },
 "nbformat": 4,
 "nbformat_minor": 2
}
