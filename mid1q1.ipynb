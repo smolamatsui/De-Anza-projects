{
 "cells": [
  {
   "cell_type": "code",
   "execution_count": 115,
   "metadata": {},
   "outputs": [],
   "source": [
    "class Rotor:\n",
    "    def __init__(self, min_val, max_val, initial=0):\n",
    "        self._value = initial\n",
    "        if initial != 0:\n",
    "            self._value = min_val\n",
    "        self._min_value = min_val\n",
    "        self._max_value = max_val\n",
    "        self.range = max_val - min_val + 1\n",
    "\n",
    "    def Rotate(self, char = 0, shift = 1):\n",
    "        shift = shift % self.range\n",
    "        char = ord(char)\n",
    "        # Check if char is within bounds\n",
    "        if self._min_value <= char <= self._max_value:\n",
    "            # Rotate within bounds\n",
    "            rotated_val = (self._min_value + (char - self._min_value + shift) % self.range)\n",
    "            return chr(rotated_val)\n",
    "    \n",
    "    def rotate(self, shift = 1):\n",
    "        self._value = self.increment(shift)\n",
    "        return self._value\n",
    "\n",
    "    def increment(self, shift=1):\n",
    "        \"\"\"Increments the rotor's internal value and returns the updated value.\"\"\"\n",
    "        self._value = (self._value + shift) % (self._max_value - self._min_value + 1) + self._min_value\n",
    "        return self._value  # Return the incremented value\n",
    "\n",
    "    def decrement(self, shift=1):\n",
    "        \"\"\"Decrements the rotor's internal value.\"\"\"\n",
    "        self._value = (self._value - shift) % (self._max_value - self._min_value + 1) + self._min_value\n",
    "\n",
    "    def set_value(self, val):\n",
    "        if self._min_value <= val <= self._max_value:\n",
    "            self._value = val\n",
    "        else:\n",
    "            raise ValueError(\"Number is out of range.\")\n",
    "\n",
    "    def get_value(self):\n",
    "        return self._value\n",
    "    \n",
    "    def __iter__(self):\n",
    "        \"\"\"Iterator for the ASCII characters in the range.\"\"\"\n",
    "        return (chr(i) for i in range(self._min_value, self._max_value + 1))\n",
    "    \n",
    "    def __len__(self):\n",
    "        \"\"\"Returns the number of ASCII characters in the range.\"\"\"\n",
    "        return self.range\n",
    "\n",
    "    def __next__(self):\n",
    "        \"\"\"Increments and returns the next rotated value.\"\"\"\n",
    "        self.increment()  # Or rotate by a specific shift if needed\n",
    "        return self._value\n",
    "\n",
    "    def __eq__(self, other):\n",
    "        return self._value == other._value\n",
    "\n",
    "    def __ne__(self, other):\n",
    "        return not self == other\n",
    "\n",
    "    def __lt__(self, other):\n",
    "        return self._value < other._value\n",
    "\n",
    "    def __gt__(self, other):\n",
    "        return self._value > other._value\n",
    "\n",
    "    def __str__(self):\n",
    "        return chr(self._value)\n"
   ]
  },
  {
   "cell_type": "code",
   "execution_count": 116,
   "metadata": {},
   "outputs": [],
   "source": [
    "rotor = Rotor(0x20,0x7F)\n",
    "def caesar_cipher(text, shift):\n",
    "   result = \"\"\n",
    "   for i in range(len(text)):\n",
    "       char = text[i] \n",
    "       result += rotor.Rotate(char,shift)      \n",
    "   return result"
   ]
  },
  {
   "cell_type": "code",
   "execution_count": 117,
   "metadata": {},
   "outputs": [
    {
     "name": "stdout",
     "output_type": "stream",
     "text": [
      "Encrypted text: bcdefgh\n"
     ]
    }
   ],
   "source": [
    "# Test case for Caesar cipher\n",
    "text = \"abcdefg\"\n",
    "shift = 1\n",
    "encrypted_text = caesar_cipher(text, shift)\n",
    "print(\"Encrypted text:\", encrypted_text)\n"
   ]
  },
  {
   "cell_type": "code",
   "execution_count": 118,
   "metadata": {},
   "outputs": [],
   "source": [
    "dice = Rotor(0,6)"
   ]
  },
  {
   "cell_type": "code",
   "execution_count": 119,
   "metadata": {},
   "outputs": [
    {
     "name": "stdout",
     "output_type": "stream",
     "text": [
      "1\n",
      "2\n",
      "3\n",
      "4\n",
      "5\n",
      "6\n",
      "0\n",
      "1\n",
      "2\n",
      "3\n",
      "4\n",
      "5\n",
      "6\n"
     ]
    }
   ],
   "source": [
    "for i in \"afioawjfapowf\":\n",
    "    roll = dice.rotate()  # Increment value on each iteration\n",
    "    print(roll)"
   ]
  },
  {
   "cell_type": "code",
   "execution_count": 120,
   "metadata": {},
   "outputs": [],
   "source": [
    "import random\n",
    "house = Rotor(0, 3)\n",
    "houses = {0:\"hearts\", 1:\"spades\",2:\"diamonds\",3:\"clubs\"}\n",
    "number = Rotor(1,13)\n",
    "def takecard():\n",
    "    shape = houses[house.rotate(random.randint(0,3))]\n",
    "    numb = number.rotate(random.randint(1,13))\n",
    "    retext = str(numb) + \" of \" + shape\n",
    "    return retext\n"
   ]
  },
  {
   "cell_type": "code",
   "execution_count": 121,
   "metadata": {},
   "outputs": [
    {
     "data": {
      "text/plain": [
       "'8 of diamonds'"
      ]
     },
     "execution_count": 121,
     "metadata": {},
     "output_type": "execute_result"
    }
   ],
   "source": [
    "takecard()"
   ]
  },
  {
   "cell_type": "code",
   "execution_count": 122,
   "metadata": {},
   "outputs": [],
   "source": [
    "def roulette(cats):\n",
    "    place = Rotor(0, cats)\n",
    "    return place.rotate(random.randint(0, cats))\n"
   ]
  },
  {
   "cell_type": "code",
   "execution_count": 131,
   "metadata": {},
   "outputs": [
    {
     "name": "stdout",
     "output_type": "stream",
     "text": [
      "congrats! you are a very lucky person\n"
     ]
    }
   ],
   "source": [
    "if roulette(5) == 3:\n",
    "    print(\"congrats! you are a very lucky person\")\n",
    "else:\n",
    "    print(\"welp\")"
   ]
  },
  {
   "cell_type": "code",
   "execution_count": null,
   "metadata": {},
   "outputs": [],
   "source": []
  }
 ],
 "metadata": {
  "kernelspec": {
   "display_name": "Python 3",
   "language": "python",
   "name": "python3"
  },
  "language_info": {
   "codemirror_mode": {
    "name": "ipython",
    "version": 3
   },
   "file_extension": ".py",
   "mimetype": "text/x-python",
   "name": "python",
   "nbconvert_exporter": "python",
   "pygments_lexer": "ipython3",
   "version": "3.9.4"
  }
 },
 "nbformat": 4,
 "nbformat_minor": 2
}
